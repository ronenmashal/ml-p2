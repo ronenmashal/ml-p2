{
 "cells": [
  {
   "cell_type": "markdown",
   "id": "a9564f9b",
   "metadata": {},
   "source": [
    "# Deep Learning Assignment\n",
    "\n",
    "Submitted by:\n",
    "- Ronen Mashal\n",
    "- Nir Schwartz"
   ]
  },
  {
   "cell_type": "markdown",
   "id": "538c2131",
   "metadata": {},
   "source": [
    "# Introduction\n",
    "\n",
    "This notebook describes the progress and results of building a deep learning model to categorize the FASHION-MNIST images.\n",
    "Throughout the project we've attempted to utilize the tools offered by W&B, so much of our effort was actually directed towards managing the environment, in order to complete the project assignment while developing a work methodology involving the W&B tools."
   ]
  },
  {
   "cell_type": "markdown",
   "id": "e863a151",
   "metadata": {},
   "source": [
    "# Source code\n",
    "\n",
    "The complete source code for the training and the application is placed on Github, here: https://github.com/ronenmashal/ml-p2\n",
    "The W&B project is here: https://wandb.ai/ml-p2/ml-p2, containing:\n",
    "- Dataset versions\n",
    "- Model versions.\n",
    "- Sweeps and runs."
   ]
  },
  {
   "cell_type": "markdown",
   "id": "0f675b18",
   "metadata": {},
   "source": [
    "# Connecting to W&B\n",
    "\n",
    "Before we start with the dataset and model, we connect to W&B, in order to be able to load models and datasets."
   ]
  },
  {
   "cell_type": "code",
   "execution_count": 1,
   "id": "5f7c244c",
   "metadata": {},
   "outputs": [
    {
     "name": "stderr",
     "output_type": "stream",
     "text": [
      "\u001b[34m\u001b[1mwandb\u001b[0m: Currently logged in as: \u001b[33mrmashal\u001b[0m (\u001b[33mml-p2\u001b[0m). Use \u001b[1m`wandb login --relogin`\u001b[0m to force relogin\n"
     ]
    },
    {
     "data": {
      "text/html": [
       "Tracking run with wandb version 0.12.21"
      ],
      "text/plain": [
       "<IPython.core.display.HTML object>"
      ]
     },
     "metadata": {},
     "output_type": "display_data"
    },
    {
     "data": {
      "text/html": [
       "Run data is saved locally in <code>C:\\Users\\Ronen Mashal\\ML\\project2\\wandb\\run-20220719_202037-d1pnbgdh</code>"
      ],
      "text/plain": [
       "<IPython.core.display.HTML object>"
      ]
     },
     "metadata": {},
     "output_type": "display_data"
    },
    {
     "data": {
      "text/html": [
       "Syncing run <strong><a href=\"https://wandb.ai/ml-p2/ml-p2/runs/d1pnbgdh\" target=\"_blank\">whole-firefly-207</a></strong> to <a href=\"https://wandb.ai/ml-p2/ml-p2\" target=\"_blank\">Weights & Biases</a> (<a href=\"https://wandb.me/run\" target=\"_blank\">docs</a>)<br/>"
      ],
      "text/plain": [
       "<IPython.core.display.HTML object>"
      ]
     },
     "metadata": {},
     "output_type": "display_data"
    }
   ],
   "source": [
    "!pip install wandb -qqq\n",
    "import wandb\n",
    "from datetime import datetime\n",
    "wandb.login()\n",
    "\n",
    "timestamp = datetime.now().strftime(\"%H%M%S\")\n",
    "run = wandb.init(project=f\"ml-p2\", entity=\"ml-p2\")"
   ]
  },
  {
   "cell_type": "code",
   "execution_count": 2,
   "id": "4813184e",
   "metadata": {},
   "outputs": [],
   "source": [
    "from collections import namedtuple\n",
    "import numpy as np\n",
    "import os\n",
    "import tensorflow as tf\n",
    "\n",
    "Dataset = namedtuple(\"Dataset\", [\"images\", \"labels\"])\n",
    "dataset_names = [\"training\", \"validation\", \"test\"]\n",
    "\n",
    "def read_datasets(wandb_run, dataset_tag = \"latest\"):\n",
    "    '''\n",
    "    Read all datasets from W&B.\n",
    "    Usage example: train_set, validation_set, test_set = wbh.read_datasets(run)\n",
    "    '''\n",
    "    artifact = wandb_run.use_artifact(f'ml-p2/ml-p2/fashion-mnist:{dataset_tag}', type='dataset')\n",
    "    data_dir = artifact.download()\n",
    "    return [ read_dataset(data_dir, ds_name) for ds_name in dataset_names ]\n",
    "\n",
    "def read_dataset(data_dir, ds_name):\n",
    "    filename = ds_name + \".npz\"\n",
    "    data = np.load(os.path.join(data_dir, filename))\n",
    "    return Dataset(images = data[\"x\"], labels = data[\"y\"])\n",
    "\n",
    "def read_model(wandb_run, model_name, model_tag = \"latest\") -> tf.keras.models.Model:\n",
    "    artifact = wandb_run.use_artifact(f'ml-p2/ml-p2/{model_name}:{model_tag}', type='model')\n",
    "    artifact_dir = artifact.download()\n",
    "    return tf.keras.models.load_model(artifact_dir)\n"
   ]
  },
  {
   "cell_type": "markdown",
   "id": "dd0bc446",
   "metadata": {},
   "source": [
    "# The Dataset"
   ]
  },
  {
   "cell_type": "markdown",
   "id": "b43ae71c",
   "metadata": {},
   "source": [
    "We loaded the fashion-mnist dataset, split it to train, validation and test sets, normalized the images (by dividing the pixel values by 255) and logged the datasets as a W&B project artifact, so it can be loaded as is later."
   ]
  },
  {
   "cell_type": "code",
   "execution_count": 3,
   "id": "37e6a346",
   "metadata": {},
   "outputs": [
    {
     "name": "stderr",
     "output_type": "stream",
     "text": [
      "\u001b[34m\u001b[1mwandb\u001b[0m: Downloading large artifact fashion-mnist:latest, 418.77MB. 3 files... Done. 0:0:0.0\n"
     ]
    }
   ],
   "source": [
    "train_set, validation_set, test_set = read_datasets(run)"
   ]
  },
  {
   "cell_type": "markdown",
   "id": "f5aca16a",
   "metadata": {},
   "source": [
    "# The Basic Model\n",
    "\n",
    "We started with a very basic fully connected model as follows:"
   ]
  },
  {
   "cell_type": "code",
   "execution_count": 4,
   "id": "87146af3",
   "metadata": {},
   "outputs": [
    {
     "name": "stdout",
     "output_type": "stream",
     "text": [
      "Model: \"sequential\"\n",
      "_________________________________________________________________\n",
      " Layer (type)                Output Shape              Param #   \n",
      "=================================================================\n",
      " flatten (Flatten)           (None, 784)               0         \n",
      "                                                                 \n",
      " dense (Dense)               (None, 200)               157000    \n",
      "                                                                 \n",
      " dropout (Dropout)           (None, 200)               0         \n",
      "                                                                 \n",
      " dense_1 (Dense)             (None, 100)               20100     \n",
      "                                                                 \n",
      " dropout_1 (Dropout)         (None, 100)               0         \n",
      "                                                                 \n",
      " dense_2 (Dense)             (None, 60)                6060      \n",
      "                                                                 \n",
      " dropout_2 (Dropout)         (None, 60)                0         \n",
      "                                                                 \n",
      " dense_3 (Dense)             (None, 10)                610       \n",
      "                                                                 \n",
      "=================================================================\n",
      "Total params: 183,770\n",
      "Trainable params: 183,770\n",
      "Non-trainable params: 0\n",
      "_________________________________________________________________\n"
     ]
    }
   ],
   "source": [
    "from tensorflow import keras\n",
    "\n",
    "model = read_model(run, \"FCNN\", \"v0\")\n",
    "model.summary()"
   ]
  },
  {
   "cell_type": "markdown",
   "id": "5e9e1ee7",
   "metadata": {},
   "source": [
    "The model offers several optimization points. We can change its behavior by:\n",
    "1. Changing the `dropout_rate` of the Dropout layers.\n",
    "2. Changing the size of each of the Dense layers (`l1_size`, `l2_size` and `l3_size`).\n",
    "3. Changing the Dense layers activation method."
   ]
  },
  {
   "cell_type": "markdown",
   "id": "39dcfd99",
   "metadata": {},
   "source": [
    "# First Training Attempt"
   ]
  },
  {
   "cell_type": "markdown",
   "id": "fe3769b2",
   "metadata": {},
   "source": [
    "We compiled the model with 'adam' optimizer and metrics 'accuracy'. We saved the trained model as 'v1'. Here are the results:"
   ]
  },
  {
   "cell_type": "code",
   "execution_count": 5,
   "id": "36dbee4f",
   "metadata": {},
   "outputs": [
    {
     "name": "stdout",
     "output_type": "stream",
     "text": [
      "1719/1719 [==============================] - 18s 9ms/step - loss: 0.2649 - accuracy: 0.8994\n"
     ]
    },
    {
     "data": {
      "text/plain": [
       "[0.26492154598236084, 0.89936363697052]"
      ]
     },
     "execution_count": 5,
     "metadata": {},
     "output_type": "execute_result"
    }
   ],
   "source": [
    "model = read_model(run, \"FCNN\", \"v1\")\n",
    "model.evaluate(train_set.images, train_set.labels)"
   ]
  },
  {
   "cell_type": "markdown",
   "id": "c03a8024",
   "metadata": {},
   "source": [
    "Well, seems like good results right off the top. So, we evaluated the model with the test set:"
   ]
  },
  {
   "cell_type": "code",
   "execution_count": 6,
   "id": "ef64ad6b",
   "metadata": {},
   "outputs": [
    {
     "name": "stdout",
     "output_type": "stream",
     "text": [
      "313/313 [==============================] - 5s 15ms/step - loss: 0.3494 - accuracy: 0.8759\n"
     ]
    },
    {
     "data": {
      "text/plain": [
       "[0.34943073987960815, 0.8758999705314636]"
      ]
     },
     "execution_count": 6,
     "metadata": {},
     "output_type": "execute_result"
    }
   ],
   "source": [
    "model.evaluate(test_set.images, test_set.labels)"
   ]
  },
  {
   "cell_type": "markdown",
   "id": "867d7a39",
   "metadata": {},
   "source": [
    "Let's see the confusion matrix, to see where model fails:"
   ]
  },
  {
   "cell_type": "code",
   "execution_count": 7,
   "id": "110beecc",
   "metadata": {},
   "outputs": [
    {
     "name": "stdout",
     "output_type": "stream",
     "text": [
      "313/313 [==============================] - 2s 6ms/step\n"
     ]
    }
   ],
   "source": [
    "from sklearn.metrics import classification_report, confusion_matrix\n",
    "import seaborn as sns\n",
    "import matplotlib.pyplot as plt     \n",
    "\n",
    "predictions = model.predict(test_set.images)\n",
    "y_test = np.argmax(predictions, axis = 1)\n",
    "cr = classification_report(test_set.labels, y_test)\n",
    "cm = confusion_matrix(test_set.labels, y_test)"
   ]
  },
  {
   "cell_type": "code",
   "execution_count": 8,
   "id": "3287c9b2",
   "metadata": {},
   "outputs": [
    {
     "name": "stdout",
     "output_type": "stream",
     "text": [
      "Classification Report:\n",
      "              precision    recall  f1-score   support\n",
      "\n",
      "           0       0.87      0.77      0.82      1000\n",
      "           1       0.99      0.97      0.98      1000\n",
      "           2       0.75      0.82      0.78      1000\n",
      "           3       0.84      0.90      0.87      1000\n",
      "           4       0.73      0.84      0.78      1000\n",
      "           5       0.99      0.95      0.97      1000\n",
      "           6       0.74      0.61      0.67      1000\n",
      "           7       0.93      0.97      0.95      1000\n",
      "           8       0.97      0.97      0.97      1000\n",
      "           9       0.96      0.96      0.96      1000\n",
      "\n",
      "    accuracy                           0.88     10000\n",
      "   macro avg       0.88      0.88      0.87     10000\n",
      "weighted avg       0.88      0.88      0.87     10000\n",
      "\n"
     ]
    }
   ],
   "source": [
    "print (\"Classification Report:\")\n",
    "print (cr)"
   ]
  },
  {
   "cell_type": "code",
   "execution_count": 9,
   "id": "e6ef775b",
   "metadata": {
    "scrolled": false
   },
   "outputs": [
    {
     "data": {
      "image/png": "[encoded data removed]",
      "text/plain": [
       "<Figure size 1152x576 with 2 Axes>"
      ]
     },
     "metadata": {
      "needs_background": "light"
     },
     "output_type": "display_data"
    }
   ],
   "source": [
    "class_names = [\"T-shirt/top\",\"Trouser\",\"Pullover\",\"Dress\",\"Coat\",\"Sandal\",\"Shirt\",\"Sneaker\",\"Bag\",\"Ankle boot\"]\n",
    "\n",
    "plt.subplots(1, 1, figsize = (16, 8))\n",
    "ax = plt.subplot()\n",
    "# labels, title and ticks\n",
    "ax.set_xlabel('Predicted labels')\n",
    "ax.set_ylabel('True labels')\n",
    "ax.set_title('Confusion Matrix')\n",
    "sns.heatmap(cm, annot=True, fmt='g', ax=ax)\n",
    "x = ax.xaxis.set_ticklabels(class_names)\n",
    "y = ax.yaxis.set_ticklabels(class_names)\n"
   ]
  },
  {
   "cell_type": "markdown",
   "id": "634bb40c",
   "metadata": {},
   "source": [
    "# Optimization Attempt\n",
    "\n",
    "We tried to enhance the model's performance using W&B sweep. Here's a report of the sweep:"
   ]
  },
  {
   "cell_type": "code",
   "execution_count": 10,
   "id": "f6767513",
   "metadata": {
    "scrolled": false
   },
   "outputs": [
    {
     "data": {
      "text/html": [
       "<iframe src=\"https://wandb.ai/ml-p2/ml-p2/reports/First-Optimization-Attempt--VmlldzoyMzI1NzY1?jupyter=true\" style=\"border:none;width:100%;height:420px;\"></iframe>"
      ],
      "text/plain": [
       "<wandb.jupyter.IFrame at 0x252a1f7ff10>"
      ]
     },
     "metadata": {},
     "output_type": "display_data"
    }
   ],
   "source": [
    "%wandb \"ml-p2/ml-p2/reports/First-Optimization-Attempt--VmlldzoyMzI1NzY1\""
   ]
  },
  {
   "cell_type": "markdown",
   "id": "ddbd5d03",
   "metadata": {},
   "source": [
    "From the report we can see that the sweep was not able to achieve much improvement in the model's performance. The model's validation accuracy remains around 0.9 and validation loss around 0.3.\n",
    "\n",
    "However, we do see that the prefered activation method is indeed 'relu', compared to the other methods chosen for the sweep."
   ]
  },
  {
   "cell_type": "markdown",
   "id": "e91b1ab0",
   "metadata": {},
   "source": [
    "# Adding a layer"
   ]
  },
  {
   "cell_type": "markdown",
   "id": "357556d1",
   "metadata": {},
   "source": [
    "We tried to enhance the model performance by adding another Dense layer.\n",
    "Also, we changed the sweep configuration to allow larger layer sizes.\n",
    "Following is the summary of the sweep on 4 layers:"
   ]
  },
  {
   "cell_type": "code",
   "execution_count": 11,
   "id": "282f8bd6",
   "metadata": {},
   "outputs": [
    {
     "data": {
      "text/html": [
       "<iframe src=\"https://wandb.ai/ml-p2/ml-p2/reports/Sweeping-on-4-Layers--VmlldzoyMzM5MjU4?jupyter=true\" style=\"border:none;width:100%;height:420px;\"></iframe>"
      ],
      "text/plain": [
       "<wandb.jupyter.IFrame at 0x252a20cef40>"
      ]
     },
     "metadata": {},
     "output_type": "display_data"
    }
   ],
   "source": [
    "%wandb \"ml-p2/ml-p2/reports/Sweeping-on-4-Layers--VmlldzoyMzM5MjU4\""
   ]
  },
  {
   "cell_type": "markdown",
   "id": "b806633d",
   "metadata": {},
   "source": [
    "The summary shows that even by adding a layer and increasing the layer sizes to 600 nodes, we still cannot achieve better results.\n",
    "\n",
    "We moved on, trying to enhance the inference performance, by changing the model to use convolution."
   ]
  },
  {
   "cell_type": "markdown",
   "id": "59cfdba6",
   "metadata": {},
   "source": [
    "# Convolution model\n",
    "\n",
    "We changed the model to be as follows:"
   ]
  },
  {
   "cell_type": "code",
   "execution_count": 12,
   "id": "28948011",
   "metadata": {},
   "outputs": [
    {
     "name": "stdout",
     "output_type": "stream",
     "text": [
      "Model: \"sequential\"\n",
      "_________________________________________________________________\n",
      " Layer (type)                Output Shape              Param #   \n",
      "=================================================================\n",
      " conv2d (Conv2D)             (None, 28, 28, 64)        640       \n",
      "                                                                 \n",
      " max_pooling2d (MaxPooling2D  (None, 14, 14, 64)       0         \n",
      " )                                                               \n",
      "                                                                 \n",
      " flatten (Flatten)           (None, 12544)             0         \n",
      "                                                                 \n",
      " dense (Dense)               (None, 100)               1254500   \n",
      "                                                                 \n",
      " dropout (Dropout)           (None, 100)               0         \n",
      "                                                                 \n",
      " dense_1 (Dense)             (None, 100)               10100     \n",
      "                                                                 \n",
      " dense_2 (Dense)             (None, 10)                1010      \n",
      "                                                                 \n",
      "=================================================================\n",
      "Total params: 1,266,250\n",
      "Trainable params: 1,266,250\n",
      "Non-trainable params: 0\n",
      "_________________________________________________________________\n"
     ]
    }
   ],
   "source": [
    "model = read_model(run, \"Conv1\", \"v0\")\n",
    "model.summary()"
   ]
  },
  {
   "cell_type": "markdown",
   "id": "c9770802",
   "metadata": {},
   "source": [
    "The performance of the model:"
   ]
  },
  {
   "cell_type": "code",
   "execution_count": 13,
   "id": "ab8a977c",
   "metadata": {},
   "outputs": [
    {
     "name": "stdout",
     "output_type": "stream",
     "text": [
      "1719/1719 [==============================] - 37s 16ms/step - loss: 0.0676 - accuracy: 0.9759\n"
     ]
    },
    {
     "data": {
      "text/plain": [
       "[0.06763877719640732, 0.9759091138839722]"
      ]
     },
     "execution_count": 13,
     "metadata": {},
     "output_type": "execute_result"
    }
   ],
   "source": [
    "model.evaluate(train_set.images, train_set.labels)"
   ]
  },
  {
   "cell_type": "code",
   "execution_count": 14,
   "id": "d1b468ad",
   "metadata": {},
   "outputs": [
    {
     "name": "stdout",
     "output_type": "stream",
     "text": [
      "313/313 [==============================] - 5s 16ms/step - loss: 0.3160 - accuracy: 0.9079\n"
     ]
    },
    {
     "data": {
      "text/plain": [
       "[0.31598493456840515, 0.9078999757766724]"
      ]
     },
     "execution_count": 14,
     "metadata": {},
     "output_type": "execute_result"
    }
   ],
   "source": [
    "model.evaluate(test_set.images, test_set.labels)"
   ]
  },
  {
   "cell_type": "code",
   "execution_count": 15,
   "id": "d54e1483",
   "metadata": {},
   "outputs": [
    {
     "name": "stdout",
     "output_type": "stream",
     "text": [
      "313/313 [==============================] - 2s 6ms/step\n"
     ]
    }
   ],
   "source": [
    "predictions = model.predict(test_set.images)\n",
    "y_test = np.argmax(predictions, axis = 1)\n",
    "cr_conv = classification_report(test_set.labels, y_test)\n",
    "cm_conv = confusion_matrix(test_set.labels, y_test)"
   ]
  },
  {
   "cell_type": "code",
   "execution_count": 16,
   "id": "ca565843",
   "metadata": {},
   "outputs": [
    {
     "name": "stdout",
     "output_type": "stream",
     "text": [
      "Classification Report:\n",
      "              precision    recall  f1-score   support\n",
      "\n",
      "           0       0.87      0.85      0.86      1000\n",
      "           1       0.99      0.98      0.99      1000\n",
      "           2       0.86      0.82      0.84      1000\n",
      "           3       0.92      0.91      0.91      1000\n",
      "           4       0.87      0.84      0.86      1000\n",
      "           5       0.98      0.99      0.98      1000\n",
      "           6       0.71      0.78      0.74      1000\n",
      "           7       0.99      0.94      0.96      1000\n",
      "           8       0.98      0.98      0.98      1000\n",
      "           9       0.95      0.98      0.97      1000\n",
      "\n",
      "    accuracy                           0.91     10000\n",
      "   macro avg       0.91      0.91      0.91     10000\n",
      "weighted avg       0.91      0.91      0.91     10000\n",
      "\n"
     ]
    }
   ],
   "source": [
    "print (\"Classification Report:\")\n",
    "print (cr_conv)"
   ]
  },
  {
   "cell_type": "code",
   "execution_count": 17,
   "id": "0ad54643",
   "metadata": {},
   "outputs": [
    {
     "data": {
      "image/png": "[encoded data removed]",
      "text/plain": [
       "<Figure size 1152x576 with 2 Axes>"
      ]
     },
     "metadata": {
      "needs_background": "light"
     },
     "output_type": "display_data"
    }
   ],
   "source": [
    "plt.subplots(1, 1, figsize = (16, 8))\n",
    "ax = plt.subplot()\n",
    "# labels, title and ticks\n",
    "ax.set_xlabel('Predicted labels')\n",
    "ax.set_ylabel('True labels')\n",
    "ax.set_title('Confusion Matrix')\n",
    "sns.heatmap(cm_conv, annot=True, fmt='g', ax=ax)\n",
    "x = ax.xaxis.set_ticklabels(class_names)\n",
    "y = ax.yaxis.set_ticklabels(class_names)"
   ]
  },
  {
   "cell_type": "markdown",
   "id": "fed33f88",
   "metadata": {},
   "source": [
    "The model achieved immediate performance improvement, though not as much as we wanted on the test set.\n",
    "From the high training accuracy and relatively low test accuracy, we estimate that the model acieved overfitting on the training data."
   ]
  },
  {
   "cell_type": "markdown",
   "id": "2ca3fdb0",
   "metadata": {},
   "source": [
    "# Optimizing the Convolution Model\n",
    "\n",
    "We used a sweep to attemp tuning the convolution model."
   ]
  },
  {
   "cell_type": "code",
   "execution_count": 18,
   "id": "022f07dc",
   "metadata": {
    "scrolled": false
   },
   "outputs": [
    {
     "data": {
      "text/html": [
       "<iframe src=\"https://wandb.ai/ml-p2/ml-p2/reports/CNN-Model-Optimization--VmlldzoyMzQwODQy?jupyter=true\" style=\"border:none;width:100%;height:420px;\"></iframe>"
      ],
      "text/plain": [
       "<wandb.jupyter.IFrame at 0x2528dec39d0>"
      ]
     },
     "metadata": {},
     "output_type": "display_data"
    }
   ],
   "source": [
    "%wandb \"ml-p2/ml-p2/reports/CNN-Model-Optimization--VmlldzoyMzQwODQy\""
   ]
  },
  {
   "cell_type": "code",
   "execution_count": 19,
   "id": "7673f36b",
   "metadata": {},
   "outputs": [
    {
     "name": "stdout",
     "output_type": "stream",
     "text": [
      "Best run Conv-142858 with 0.9169999957084656 validation accuracy\n"
     ]
    }
   ],
   "source": [
    "# Get the best model from the sweep.\n",
    "api = wandb.Api()\n",
    "\n",
    "sweep = api.sweep(\"ml-p2/ml-p2/6zmewzd0\")\n",
    "runs = sorted(sweep.runs,\n",
    "  key=lambda run: run.summary.get(\"val_accuracy\", 0), reverse=True)\n",
    "val_acc = runs[0].summary.get(\"val_accuracy\", 0)\n",
    "print(f\"Best run {runs[0].name} with {val_acc} validation accuracy\")\n",
    "\n",
    "model_file = runs[0].file(\"model-best.h5\").download(replace=True)\n",
    "model_file.close()"
   ]
  },
  {
   "cell_type": "code",
   "execution_count": 20,
   "id": "e4b4b0a4",
   "metadata": {},
   "outputs": [],
   "source": [
    "best_model = keras.models.load_model(\".\\\\model-best.h5\")"
   ]
  },
  {
   "cell_type": "code",
   "execution_count": 21,
   "id": "c6cb5583",
   "metadata": {},
   "outputs": [
    {
     "name": "stdout",
     "output_type": "stream",
     "text": [
      "Model: \"sequential\"\n",
      "_________________________________________________________________\n",
      " Layer (type)                Output Shape              Param #   \n",
      "=================================================================\n",
      " conv2d (Conv2D)             (None, 28, 28, 64)        640       \n",
      "                                                                 \n",
      " max_pooling2d (MaxPooling2D  (None, 14, 14, 64)       0         \n",
      " )                                                               \n",
      "                                                                 \n",
      " flatten (Flatten)           (None, 12544)             0         \n",
      "                                                                 \n",
      " dense (Dense)               (None, 384)               4817280   \n",
      "                                                                 \n",
      " dropout (Dropout)           (None, 384)               0         \n",
      "                                                                 \n",
      " dense_1 (Dense)             (None, 384)               147840    \n",
      "                                                                 \n",
      " dense_2 (Dense)             (None, 10)                3850      \n",
      "                                                                 \n",
      "=================================================================\n",
      "Total params: 4,969,610\n",
      "Trainable params: 4,969,610\n",
      "Non-trainable params: 0\n",
      "_________________________________________________________________\n"
     ]
    }
   ],
   "source": [
    "best_model.summary()"
   ]
  },
  {
   "cell_type": "code",
   "execution_count": 22,
   "id": "eae35198",
   "metadata": {},
   "outputs": [
    {
     "name": "stdout",
     "output_type": "stream",
     "text": [
      "1719/1719 [==============================] - 17s 10ms/step - loss: 0.0676 - accuracy: 0.9759\n"
     ]
    },
    {
     "data": {
      "text/plain": [
       "[0.06763877719640732, 0.9759091138839722]"
      ]
     },
     "execution_count": 22,
     "metadata": {},
     "output_type": "execute_result"
    }
   ],
   "source": [
    "model.evaluate(train_set.images, train_set.labels)"
   ]
  },
  {
   "cell_type": "code",
   "execution_count": 23,
   "id": "96b4a666",
   "metadata": {},
   "outputs": [
    {
     "name": "stdout",
     "output_type": "stream",
     "text": [
      "313/313 [==============================] - 3s 9ms/step - loss: 0.3160 - accuracy: 0.9079\n"
     ]
    },
    {
     "data": {
      "text/plain": [
       "[0.31598493456840515, 0.9078999757766724]"
      ]
     },
     "execution_count": 23,
     "metadata": {},
     "output_type": "execute_result"
    }
   ],
   "source": [
    "model.evaluate(test_set.images, test_set.labels)"
   ]
  },
  {
   "cell_type": "markdown",
   "id": "b6351b99",
   "metadata": {},
   "source": [
    "# Conclusion\n",
    "\n",
    "The rigorous training with the W&B sweep did not make a significant enhancement in the performance in both cases - FCNN and CNN models.\n",
    "We could also try data augmentation, bigger and more complex networks, but unfortunately, we do not have the time to complete this."
   ]
  },
  {
   "cell_type": "markdown",
   "id": "b7273974",
   "metadata": {},
   "source": [
    "# Reflection\n",
    "\n",
    "What have we learned from this project? \n",
    "__Managing an ML project is so much different from what we know about software projects.__\n",
    "  - You have to maintain the training source code versions separately from the application source code. They're not tightly coupled.  \n",
    "  - You have to maintain dataset and model versions.\n",
    "  - Then you have to connect them all together in a meaningful way...\n",
    "  \n",
    "Also, we saw that working in a group on ML projects requires much more coordination (and experience) than when working together on standard software projects.\n",
    "\n",
    "These were our main challenges (other than learning the tools) during the project."
   ]
  }
 ],
 "metadata": {
  "kernelspec": {
   "display_name": "Python 3 (ipykernel)",
   "language": "python",
   "name": "python3"
  },
  "language_info": {
   "codemirror_mode": {
    "name": "ipython",
    "version": 3
   },
   "file_extension": ".py",
   "mimetype": "text/x-python",
   "name": "python",
   "nbconvert_exporter": "python",
   "pygments_lexer": "ipython3",
   "version": "3.9.7"
  },
  "toc": {
   "base_numbering": 1,
   "nav_menu": {},
   "number_sections": true,
   "sideBar": true,
   "skip_h1_title": false,
   "title_cell": "Table of Contents",
   "title_sidebar": "Contents",
   "toc_cell": false,
   "toc_position": {},
   "toc_section_display": true,
   "toc_window_display": false
  }
 },
 "nbformat": 4,
 "nbformat_minor": 5
}
